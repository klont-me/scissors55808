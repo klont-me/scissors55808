{
 "cells": [
  {
   "cell_type": "markdown",
   "metadata": {
    "id": "nJm6VridrWMN"
   },
   "source": [
    "# **Configuring the Text Generator AI**\n"
   ]
  },
  {
   "cell_type": "code",
   "execution_count": null,
   "metadata": {
    "colab": {
     "base_uri": "https://localhost:8080/"
    },
    "id": "5x8dWhV1rVdn",
    "outputId": "6ea5d49e-f8bc-4030-a9a6-4509cc6c6b5e"
   },
   "outputs": [],
   "source": [
    "!pip install chattingtransformer\n",
    "\n",
    "clear_output()"
   ]
  },
  {
   "cell_type": "code",
   "execution_count": null,
   "metadata": {
    "id": "PgzL7jkmr2ov"
   },
   "outputs": [],
   "source": [
    "from chattingtransformer import ChattingGPT2\n",
    "\n",
    "settings =  {  \n",
    "  \"do_sample\": False,  \n",
    "  \"early_stopping\": False,  \n",
    "  \"num_beams\": 1,  \n",
    "  \"temperature\": 1,  \n",
    "  \"top_k\": 50,  \n",
    "  \"top_p\": 1.0,  \n",
    "  \"repetition_penalty\": 1,  \n",
    "  \"length_penalty\": 1,  \n",
    "  \"no_repeat_ngram_size\": 2,  \n",
    "  'bad_words_ids': None,\n",
    "}"
   ]
  },
  {
   "cell_type": "code",
   "execution_count": null,
   "metadata": {
    "colab": {
     "base_uri": "https://localhost:8080/"
    },
    "id": "hOKf3tx4sL2_",
    "outputId": "5f1f27df-3de5-4879-b695-062ddfd1b641"
   },
   "outputs": [],
   "source": [
    "# Available models (gpt2, gpt2-medium, gpt2-large, gpt2-xl)\n",
    "gpt2 = ChattingGPT2('gpt2')\n",
    "clear_output()"
   ]
  },
  {
   "cell_type": "markdown",
   "metadata": {
    "id": "aFu6gcMvpiis"
   },
   "source": [
    "# **Text Generator AI**"
   ]
  },
  {
   "cell_type": "markdown",
   "metadata": {
    "id": "zITp1g0SyhwQ"
   },
   "source": [
    "***Method***"
   ]
  },
  {
   "cell_type": "code",
   "execution_count": null,
   "metadata": {
    "id": "vwse2EMzypqE"
   },
   "outputs": [],
   "source": [
    "methods = [\"greedy\", \"beam-search\", \"generic-sampling\", \"top-k-sampling\", \"top-p-nucleus-sampling\"]"
   ]
  },
  {
   "cell_type": "markdown",
   "metadata": {
    "id": "O6Dol-LEy4OP"
   },
   "source": [
    "***Generator***"
   ]
  },
  {
   "cell_type": "code",
   "execution_count": null,
   "metadata": {
    "cellView": "form",
    "colab": {
     "base_uri": "https://localhost:8080/"
    },
    "id": "XdXqAQTpAwjS",
    "outputId": "da9e20db-ab2e-4987-99b7-952aa6ab5b6c"
   },
   "outputs": [],
   "source": [
    "#@title **Generate text from Model**\n",
    "\n",
    "#@markdown Enter Model\n",
    "input_text = \"There is this popular misconception in the crypto ecosystem about BitcoinBCH and bitcoinBTC. Even amongst those who have stayed long enough in the system to understand \\\"Why Bitcoincash?!\\\". I guess that happens because greed is successfully clouding their judgement. Greed is the major reason people see the truth and cover it with veil to suit their preferences.  The politicians in leadership out of greed subject the citizens to endless suffering and abject poverty because they're only concerned with what enters their pockets. Those put in strategic positions and offices to speak for the people and ensure change for correction when there is a deviation from the right path remain in silence because their vocal pathway has been choked with selfishness. They even at worst, turn on the people. I perceive same thing happening in the crypto space.  Whatis s this misconception? Is it really a misconception or a deliberate notion to suppress an idea they perceived could benefit the masses instead of them alone? Well, for newbies it probably could be the former but for the greedy ones, it is most definitely the latter.  So bothering to notice that some people still believe or allege that, bitcoincash is a project birthed out of rebellion. That BCH was formed by a group who were not in good terms with BTC developers and decided to come up with their own project inorder to bring BTC down. According to them, all the sacrifices BCH has made and still making through its Supporters is just to fight against BTC. That should be the most ridiculous claim ever.  Bitcoincash goal is not to push BTC to the gutter but to raise the people from the gutter. Bitcoincash wishes to fulfill the promises of Bitcoin to the people. Bitcoincash is not like the politicians who make a lot of enticing campaign promises and do as they wish after assuming power. That is why it is always on its toe making sure every human on earth have a taste of what hitch-free use of money feels like.  If you are one of those who believes that bitcoincash is only competing against BTC, then you really need a rethink. If bitcoincash was truly meant to compete against BTC then, it wouldn't have been so easy to transact, it wouldn't have been so easy to acquire, the users wouldn't have been so interested in Supporting the numerous life changing BCH projects. Take it from me, if BCH decided to abandon the masses and compete with BTC today, it would overtake it in no time. But, bitcoincash is a savior not a competitor.  Rather than climbing to the top alone, bitcoincash is carrying the masses along. It is a case of slow and steady. Any project that rights it's name in the people's hearts like bitcoincash is doing could never fail.  If BTC is ever going to crumble then, it's because the people have realized the Truth. Bitcoincash is not telling anyone not to use BTC, it is only telling you to try BCH also, and freely make your choice! Many have made their choices already. If you are not brave enough, you will never know what color is the truth.  Bitcoincash says; enough of the extortion!. They hear it and and interpret it as a war against BTC instead of a move to liberate the people. That is how greediness clouds judgement.  Bitcoincash has a greater purpose and vision than to compete against BTC. Bitcoincash is the cryptocurrency that would one day replace fiat and become the world first universal Currency. Everyone would get to use it and benefits from its good fortunes. Bitcoincash would one day be transacted in every country and every store by everyone. Bitcoincash is the cryptocurrency that would one day correct the general misconception about crypto currencies and the bans in some countries be lifted.  Bitcoincash is not the sleeping giant. It is \\\"the great\\\" working tirelessly to make even greater things happen.  I will forever Support bitcoincash, not because of what I would gain alone but because of the World-changing potentials it possesses.\" #@param {type:\"string\"}\n",
    "for method in methods:\n",
    "  output = gpt2.generate_text(input_text, min_length= 850, max_length= 999, method = method, custom_settings = settings) \n",
    "  print(method, \":\", output, end=\"\\n\\n\")"
   ]
  },
  {
   "cell_type": "code",
   "execution_count": null,
   "metadata": {},
   "outputs": [],
   "source": []
  }
 ],
 "metadata": {
  "accelerator": "GPU",
  "colab": {
   "name": "ChattingTransformer2.ipynb",
   "provenance": [],
   "toc_visible": true
  },
  "kernelspec": {
   "display_name": "Python 3",
   "language": "python",
   "name": "python3"
  },
  "language_info": {
   "codemirror_mode": {
    "name": "ipython",
    "version": 3
   },
   "file_extension": ".py",
   "mimetype": "text/x-python",
   "name": "python",
   "nbconvert_exporter": "python",
   "pygments_lexer": "ipython3",
   "version": "3.9.2"
  }
 },
 "nbformat": 4,
 "nbformat_minor": 1
}
